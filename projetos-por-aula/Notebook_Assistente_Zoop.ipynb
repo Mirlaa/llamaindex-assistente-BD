{
  "nbformat": 4,
  "nbformat_minor": 0,
  "metadata": {
    "colab": {
      "provenance": [],
      "collapsed_sections": [
        "oZuAGvcIO8zv"
      ]
    },
    "kernelspec": {
      "name": "python3",
      "display_name": "Python 3"
    },
    "language_info": {
      "name": "python"
    }
  },
  "cells": [
    {
      "cell_type": "markdown",
      "source": [
        "# Aula 1 - Consultando o banco de dados com um assistente"
      ],
      "metadata": {
        "id": "KEQ_qbArdXT3"
      }
    },
    {
      "cell_type": "markdown",
      "source": [
        "Usamos a biblioteca [sqlalchemy](https://docs.sqlalchemy.org/en/20/) para trabalhar com bancos de dados no ambiente Python.\n",
        "- O [`create_engine`](https://docs.sqlalchemy.org/en/20/core/engines.html) cria a conexão com o banco de dados usando a URL fornecida.\n",
        "- O [`MetaData`](https://docs.sqlalchemy.org/en/20/core/metadata.html) gerencia informações sobre as tabelas e seus esquemas (metadados)."
      ],
      "metadata": {
        "id": "B73jkEMNRJiM"
      }
    },
    {
      "cell_type": "code",
      "source": [],
      "metadata": {
        "id": "jeDFt5Z8FqN-"
      },
      "execution_count": null,
      "outputs": []
    },
    {
      "cell_type": "code",
      "source": [],
      "metadata": {
        "id": "ZzSsX6wEFqGm"
      },
      "execution_count": null,
      "outputs": []
    },
    {
      "cell_type": "markdown",
      "source": [
        "* [`pd.read_sql_table`](https://pandas.pydata.org/docs/reference/api/pandas.read_sql_table.html) carrega a tabela diretamente para um DataFrame do pandas"
      ],
      "metadata": {
        "id": "kevvtzd2V9mD"
      }
    },
    {
      "cell_type": "code",
      "source": [],
      "metadata": {
        "id": "9v0vsmJzFo9G"
      },
      "execution_count": null,
      "outputs": []
    },
    {
      "cell_type": "code",
      "source": [],
      "metadata": {
        "id": "dwUbiS1jFng8"
      },
      "execution_count": null,
      "outputs": []
    },
    {
      "cell_type": "code",
      "source": [],
      "metadata": {
        "id": "BKfdoLg5FmzE"
      },
      "execution_count": null,
      "outputs": []
    },
    {
      "cell_type": "markdown",
      "source": [
        "## Configurando o Llama Index"
      ],
      "metadata": {
        "id": "LezT1-AmWSuF"
      }
    },
    {
      "cell_type": "code",
      "execution_count": null,
      "metadata": {
        "id": "V8h-ubQvdqwX",
        "collapsed": true
      },
      "outputs": [],
      "source": [
        "!pip install llama-index llama-index-llms-groq llama-index-experimental llama-index-embeddings-huggingface llama-index-postprocessor-cohere-rerank gradio"
      ]
    },
    {
      "cell_type": "code",
      "source": [
        "from google.colab import userdata\n",
        "key = userdata.get('GROQ_API')"
      ],
      "metadata": {
        "id": "83RibiTNXGY6"
      },
      "execution_count": null,
      "outputs": []
    },
    {
      "cell_type": "markdown",
      "source": [
        "Informações sobre os modelos:\n",
        "- [`llama-3.1-70b-versatile`](https://github.com/meta-llama/llama-models/blob/main/models/llama3_1/MODEL_CARD.md)\n",
        "- [`BAAI/bge-m3`](https://huggingface.co/BAAI/bge-m3)"
      ],
      "metadata": {
        "id": "BYWTYR-mbDiN"
      }
    },
    {
      "cell_type": "code",
      "source": [
        "modelo=\"llama-3.1-70b-versatile\"\n",
        "modelo_hf_emb=\"BAAI/bge-m3\""
      ],
      "metadata": {
        "id": "AtvM26waJrhJ"
      },
      "execution_count": null,
      "outputs": []
    },
    {
      "cell_type": "code",
      "source": [],
      "metadata": {
        "id": "BDUd9sdVFi-y"
      },
      "execution_count": null,
      "outputs": []
    },
    {
      "cell_type": "markdown",
      "source": [
        "- `SQLDatabase` conecta ao banco de dados SQL.\n",
        "- `SQLTableNodeMapping` cria um mapeamento do banco de dados."
      ],
      "metadata": {
        "id": "zTKnfZmMfqBv"
      }
    },
    {
      "cell_type": "code",
      "source": [],
      "metadata": {
        "id": "8Equl1LeFh2L"
      },
      "execution_count": null,
      "outputs": []
    },
    {
      "cell_type": "markdown",
      "source": [
        "* `SQLTableSchema` representa cada tabela no banco como um objeto e podem conter informações sobre os nomes das tabelas e, eventualmente, descrições."
      ],
      "metadata": {
        "id": "LZjpZMjaQpHU"
      }
    },
    {
      "cell_type": "code",
      "source": [],
      "metadata": {
        "id": "7zE9lCgqFg-Z"
      },
      "execution_count": null,
      "outputs": []
    },
    {
      "cell_type": "markdown",
      "source": [
        "* `ObjectIndex` combina os objetos de esquema (SQLTableSchema) e o mapeamento (SQLTableNodeMapping) para construir um índice vetorial com embeddings."
      ],
      "metadata": {
        "id": "2c6lsRwKhNvm"
      }
    },
    {
      "cell_type": "code",
      "source": [],
      "metadata": {
        "id": "5rrV-E2sFgQ4"
      },
      "execution_count": null,
      "outputs": []
    },
    {
      "cell_type": "markdown",
      "source": [
        "* `retriever` é um objeto usado para encontrar a tabela ou objeto mais relevante no banco."
      ],
      "metadata": {
        "id": "qtKFT_bCUOJ3"
      }
    },
    {
      "cell_type": "code",
      "source": [],
      "metadata": {
        "id": "NtGVsSyHFfnj"
      },
      "execution_count": null,
      "outputs": []
    },
    {
      "cell_type": "markdown",
      "source": [
        "## Consultando o banco de dados"
      ],
      "metadata": {
        "id": "hgNj19Wp3MX_"
      }
    },
    {
      "cell_type": "markdown",
      "source": [
        "* `SQLTableRetrieverQueryEngine` interpreta e executa consultas SQL com base em entrada de linguagem natural."
      ],
      "metadata": {
        "id": "7b8QM0MIj70J"
      }
    },
    {
      "cell_type": "code",
      "source": [],
      "metadata": {
        "id": "qhj-ebCpFeot"
      },
      "execution_count": null,
      "outputs": []
    },
    {
      "cell_type": "markdown",
      "source": [
        "1° consulta\n",
        "\n",
        "```\n",
        "'Quais estados mais frequentes na tabela Clientes?'\n",
        "```"
      ],
      "metadata": {
        "id": "VdI-XDNbknEP"
      }
    },
    {
      "cell_type": "code",
      "source": [],
      "metadata": {
        "id": "UfCcL4oFFdGc"
      },
      "execution_count": null,
      "outputs": []
    },
    {
      "cell_type": "code",
      "source": [],
      "metadata": {
        "id": "rgM_chr4Fc-Z"
      },
      "execution_count": null,
      "outputs": []
    },
    {
      "cell_type": "code",
      "source": [],
      "metadata": {
        "id": "Buhh2-JSFc2P"
      },
      "execution_count": null,
      "outputs": []
    },
    {
      "cell_type": "code",
      "source": [],
      "metadata": {
        "id": "-yM19EueFcxZ"
      },
      "execution_count": null,
      "outputs": []
    },
    {
      "cell_type": "markdown",
      "source": [
        "2° consulta\n",
        "\n",
        "```\n",
        "'Quais as fornecedoras localizadas na cidade de São Paulo?'\n",
        "```"
      ],
      "metadata": {
        "id": "KJm_lTrMk06S"
      }
    },
    {
      "cell_type": "code",
      "source": [],
      "metadata": {
        "id": "e_asUp1OFaHd"
      },
      "execution_count": null,
      "outputs": []
    },
    {
      "cell_type": "markdown",
      "source": [
        "3° consulta\n",
        "\n",
        "```\n",
        "'Quantos funcionários com o cargo de vendedores temos cadastrados?'\n",
        "```"
      ],
      "metadata": {
        "id": "vabD3sCGk8h8"
      }
    },
    {
      "cell_type": "code",
      "source": [],
      "metadata": {
        "id": "If64kaYMFa9Y"
      },
      "execution_count": null,
      "outputs": []
    },
    {
      "cell_type": "markdown",
      "source": [
        "# Aula 2 - Contextualizando o modelo"
      ],
      "metadata": {
        "id": "hBRMFWApdZyj"
      }
    },
    {
      "cell_type": "markdown",
      "source": [
        "Utilizando LLM do Groq com LlamaIndex\n",
        "- [Guia Groq](https://docs.llamaindex.ai/en/stable/examples/llm/groq/)"
      ],
      "metadata": {
        "id": "AaJl4EiFmWT4"
      }
    },
    {
      "cell_type": "code",
      "source": [],
      "metadata": {
        "id": "OewxhiuIFRFa"
      },
      "execution_count": null,
      "outputs": []
    },
    {
      "cell_type": "code",
      "source": [
        "def gerar_descricao_tabela(nome_tabela, df_amostra):\n",
        "    prompt = f\"\"\"\n",
        "    Analise a amostra da tabela '{nome_tabela}' abaixo e forneça uma curta e breve descrição do conteúdo dessa tabela.\n",
        "    Informe até o máximo de 5 valores únicos de cada coluna.\n",
        "\n",
        "\n",
        "    Amostra da Tabela:\n",
        "    {df_amostra}\n",
        "\n",
        "    Descrição:\n",
        "    \"\"\"\n",
        "\n",
        "    resposta = llm.complete(prompt = prompt)\n",
        "\n",
        "    return resposta.text"
      ],
      "metadata": {
        "id": "yMc-i9CKmjX8"
      },
      "execution_count": null,
      "outputs": []
    },
    {
      "cell_type": "code",
      "source": [],
      "metadata": {
        "id": "gsD8UAz0FR_B"
      },
      "execution_count": null,
      "outputs": []
    },
    {
      "cell_type": "code",
      "source": [],
      "metadata": {
        "id": "P8lcxIbvFIif"
      },
      "execution_count": null,
      "outputs": []
    },
    {
      "cell_type": "markdown",
      "source": [
        "A descrição das tabelas precisa ser adicionada no schema das tabelas"
      ],
      "metadata": {
        "id": "AGeHqlwdsxAn"
      }
    },
    {
      "cell_type": "code",
      "source": [],
      "metadata": {
        "id": "rFQ-N57IFClm"
      },
      "execution_count": null,
      "outputs": []
    },
    {
      "cell_type": "code",
      "source": [],
      "metadata": {
        "id": "j_lo-PgRFCe_"
      },
      "execution_count": null,
      "outputs": []
    },
    {
      "cell_type": "markdown",
      "source": [
        "1° consulta com nova `query_engine`\n",
        "\n",
        "```\n",
        "'Quais as fornecedoras localizadas na cidade de São Paulo?'\n",
        "```"
      ],
      "metadata": {
        "id": "vXVSVJGDsWRs"
      }
    },
    {
      "cell_type": "code",
      "source": [],
      "metadata": {
        "id": "sNDRWmifEzm4"
      },
      "execution_count": null,
      "outputs": []
    },
    {
      "cell_type": "markdown",
      "source": [
        "2° consulta com nova `query_engine`\n",
        "\n",
        "```\n",
        "'Quantos funcionários com o cargo de vendedores temos cadastrados?'\n",
        "```"
      ],
      "metadata": {
        "id": "OEyX8NpgsWRz"
      }
    },
    {
      "cell_type": "code",
      "source": [],
      "metadata": {
        "id": "TMYvP1C6Eyiz"
      },
      "execution_count": null,
      "outputs": []
    },
    {
      "cell_type": "markdown",
      "source": [
        "# Aula 3 - Iniciando a personalização de prompts"
      ],
      "metadata": {
        "id": "FINrABjhsovJ"
      }
    },
    {
      "cell_type": "markdown",
      "source": [
        "**Estrutura da cadeia passos**\n",
        "\n",
        "![Alt text: O diagrama inicia com uma \"Entrada\", que leva a várias etapas sequenciais e decisionais.\n",
        "Depois da entrada, segue-se uma etapa chamada \"Acesso à tabela\", após ela a etapa \"Contexto da tabela\" e depois para o \"1º Prompt\". Estas etapas parecem preparar a consulta inicial, contextualizando-a antes de processá-la através de um modelo de linguagem de aprendizado profundo (LLM), indicado no fluxo.\n",
        "Após o LLM processar o primeiro prompt, os resultados são utilizados para obter uma \"Consulta SQL\" e, a partir dela, o \"Resultado Consulta SQL\". O fluxo prossegue para um \"2º Prompt (Síntese)\", sugerindo uma etapa de elaboração ou síntese baseada no resultado e a consulta SQL.\n",
        "Finalmente, a saída deste segundo prompt aplicando em uma LLM leva à \"Resposta final\", indicando a conclusão do processo.](https://github.com/Mirlaa/llamaindex-assistente-BD/blob/main/Suporte-educacional/esquema-Assitente-BD-Zoop.png?raw=true)"
      ],
      "metadata": {
        "id": "47FkUD2NPNhr"
      }
    },
    {
      "cell_type": "markdown",
      "source": [
        "## Criação do 1° Prompt"
      ],
      "metadata": {
        "id": "mZTrX7qkygC4"
      }
    },
    {
      "cell_type": "code",
      "source": [
        "from llama_index.core.prompts.default_prompts import DEFAULT_TEXT_TO_SQL_PROMPT\n",
        "print(DEFAULT_TEXT_TO_SQL_PROMPT.template)"
      ],
      "metadata": {
        "id": "oMO-qmmaErhn"
      },
      "execution_count": null,
      "outputs": []
    },
    {
      "cell_type": "code",
      "source": [
        "texto2sql = \"\"\"Dada uma pergunta em linguagem natural, crie uma consulta {dialect} sintaticamente correta para executar e, em seguida, verifique os resultados da consulta e retorne a resposta. Você pode ordenar os resultados por uma coluna relevante para retornar os exemplos mais informativos no banco de dados.\n",
        "\n",
        "Nunca consulte todas as colunas de uma tabela específica. Pergunte apenas por algumas colunas relevantes, de acordo com a pergunta.\n",
        "\n",
        "Preste atenção para usar apenas os nomes de colunas que você pode ver na descrição do esquema. Tenha cuidado para não consultar colunas que não existem. Preste atenção em qual coluna está em qual tabela. Além disso, qualifique os nomes das colunas com o nome da tabela quando necessário.\n",
        "\n",
        "Use o seguinte formato, cada um em uma linha:\n",
        "\n",
        "Pergunta: Pergunta aqui\n",
        "ConsultaSQL: Consulta SQL para executar\n",
        "ResultadoSQL: Resultado da ConsultaSQL\n",
        "Resposta: Resposta final aqui\n",
        "\n",
        "Use apenas as tabelas listadas abaixo.\n",
        "\n",
        "{schema}\n",
        "\n",
        "Pergunta: {pergunta_user}\n",
        "ConsultaSQL:\n",
        "\"\"\""
      ],
      "metadata": {
        "id": "TXtgum2uCna6"
      },
      "execution_count": null,
      "outputs": []
    },
    {
      "cell_type": "markdown",
      "source": [
        "* `PromptTemplate` permite criar um template de um prompt para ser enviado à uma LLM."
      ],
      "metadata": {
        "id": "KsBx1N2jxn27"
      }
    },
    {
      "cell_type": "code",
      "source": [],
      "metadata": {
        "id": "1u8o9a6PEqJK"
      },
      "execution_count": null,
      "outputs": []
    },
    {
      "cell_type": "markdown",
      "source": [
        "## Descrição tabelas"
      ],
      "metadata": {
        "id": "MvHyW19PPQUy"
      }
    },
    {
      "cell_type": "code",
      "source": [],
      "metadata": {
        "id": "HUsQpmFmEo-z"
      },
      "execution_count": null,
      "outputs": []
    },
    {
      "cell_type": "markdown",
      "source": [
        "* `FnComponent` é uma classe do LlamaIndex usada para encapsular funções como componentes reutilizáveis dentro de uma Query Pipeline."
      ],
      "metadata": {
        "id": "RgOSnsh4yt2L"
      }
    },
    {
      "cell_type": "code",
      "source": [],
      "metadata": {
        "id": "SdiBfi_4Eea-"
      },
      "execution_count": null,
      "outputs": []
    },
    {
      "cell_type": "markdown",
      "source": [
        "## Consulta SQL e resultado"
      ],
      "metadata": {
        "id": "YwU5CF3cQ35k"
      }
    },
    {
      "cell_type": "code",
      "source": [],
      "metadata": {
        "id": "HOf_vH-bEcE1"
      },
      "execution_count": null,
      "outputs": []
    },
    {
      "cell_type": "markdown",
      "source": [
        "* `SQLRetriever` executa consultas SQL diretamente no banco de dados configurado."
      ],
      "metadata": {
        "id": "FDn0ZxUNjiMy"
      }
    },
    {
      "cell_type": "code",
      "source": [],
      "metadata": {
        "id": "UsZnchFJELBk"
      },
      "execution_count": null,
      "outputs": []
    },
    {
      "cell_type": "markdown",
      "source": [
        "# Aula 4 - Construindo a cadeia de ações"
      ],
      "metadata": {
        "id": "sAzzBvzX1PMJ"
      }
    },
    {
      "cell_type": "markdown",
      "source": [
        "**CRIAÇÃO DO 2° PROMPT**"
      ],
      "metadata": {
        "id": "P0VusFmWzJtF"
      }
    },
    {
      "cell_type": "code",
      "source": [
        "prompt_2_str = '''\n",
        "    Você é o \"Assitente de consulta de banco de dados da Zoop\".\n",
        "    Dada a seguinte pergunta, a consulta SQL correspondente e o resultado SQL, responda à pergunta de modo agradável e objetivamente.\n",
        "    Evite iniciar conversas com cumprimentos e apresentações, como \"Olá\".\n",
        "\n",
        "    Pergunta: {pergunta_user}\n",
        "    Consulta SQL: {consulta}\n",
        "    Resultado SQL: {resultado}\n",
        "    Resposta:\n",
        "    '''\n",
        "\n",
        "prompt_2 = PromptTemplate(\n",
        "    prompt_2_str,\n",
        ")"
      ],
      "metadata": {
        "id": "nDUP17y5fbE7"
      },
      "execution_count": null,
      "outputs": []
    },
    {
      "cell_type": "markdown",
      "source": [
        "**DEFINIÇÃO DOS MÓDULOS DA ESTRUTURA**"
      ],
      "metadata": {
        "id": "_q9nskKPzOQF"
      }
    },
    {
      "cell_type": "markdown",
      "source": [
        "**Vamos usar nossa estrutura de apoio:**\n",
        "\n",
        "![Alt text: O diagrama inicia com uma \"Entrada\", que leva a várias etapas sequenciais e decisionais.\n",
        "Depois da entrada, segue-se uma etapa chamada \"Acesso à tabela\", após ela a etapa \"Contexto da tabela\" e depois para o \"1º Prompt\". Estas etapas parecem preparar a consulta inicial, contextualizando-a antes de processá-la através de um modelo de linguagem de aprendizado profundo (LLM), indicado no fluxo.\n",
        "Após o LLM processar o primeiro prompt, os resultados são utilizados para obter uma \"Consulta SQL\" e, a partir dela, o \"Resultado Consulta SQL\". O fluxo prossegue para um \"2º Prompt (Síntese)\", sugerindo uma etapa de elaboração ou síntese baseada no resultado e a consulta SQL.\n",
        "Finalmente, a saída deste segundo prompt aplicando em uma LLM leva à \"Resposta final\", indicando a conclusão do processo.](https://github.com/Mirlaa/llamaindex-assistente-BD/blob/main/Suporte-educacional/esquema-Assitente-BD-Zoop.png?raw=true)"
      ],
      "metadata": {
        "id": "J1o3lsoZ0ezM"
      }
    },
    {
      "cell_type": "code",
      "source": [],
      "metadata": {
        "id": "31NMnIRpD3Wv"
      },
      "execution_count": null,
      "outputs": []
    },
    {
      "cell_type": "markdown",
      "source": [
        "## Definindo conexão de ações"
      ],
      "metadata": {
        "id": "hf9O_5RiO897"
      }
    },
    {
      "cell_type": "code",
      "source": [],
      "metadata": {
        "id": "dIuRcsGDD1a5"
      },
      "execution_count": null,
      "outputs": []
    },
    {
      "cell_type": "markdown",
      "source": [
        "## Testando as saídas"
      ],
      "metadata": {
        "id": "2Gf9snWGoXro"
      }
    },
    {
      "cell_type": "markdown",
      "source": [
        "1° consulta\n",
        "\n",
        "```\n",
        "'Quais estados mais frequentes na tabela Clientes?'\n",
        "```"
      ],
      "metadata": {
        "id": "cH8LcB0g0s7N"
      }
    },
    {
      "cell_type": "code",
      "source": [],
      "metadata": {
        "id": "QcV1FD-5D0BZ"
      },
      "execution_count": null,
      "outputs": []
    },
    {
      "cell_type": "markdown",
      "source": [
        "2° consulta\n",
        "\n",
        "```\n",
        "'Quantos funcionários com o cargo de vendedores temos cadastrados?'\n",
        "```"
      ],
      "metadata": {
        "id": "7kxzAA0l0z2X"
      }
    },
    {
      "cell_type": "code",
      "source": [],
      "metadata": {
        "id": "aE1Bz3tvDyf6"
      },
      "execution_count": null,
      "outputs": []
    },
    {
      "cell_type": "markdown",
      "source": [
        "# Aula 5 - Criando um chat com a IA"
      ],
      "metadata": {
        "id": "oZuAGvcIO8zv"
      }
    },
    {
      "cell_type": "markdown",
      "source": [
        "**Função para executar uma consulta**"
      ],
      "metadata": {
        "id": "0rBQvu_E1iBm"
      }
    },
    {
      "cell_type": "code",
      "source": [],
      "metadata": {
        "id": "pZD4SO_LDfqu"
      },
      "execution_count": null,
      "outputs": []
    },
    {
      "cell_type": "markdown",
      "source": [
        "**Função para adicionar a resposta da IA ao histórico de conversa**"
      ],
      "metadata": {
        "id": "fgFJTX1N1rii"
      }
    },
    {
      "cell_type": "code",
      "source": [],
      "metadata": {
        "id": "ssH3SHFGDgF9"
      },
      "execution_count": null,
      "outputs": []
    },
    {
      "cell_type": "markdown",
      "source": [
        "**Iniciar a construção da interface**"
      ],
      "metadata": {
        "id": "ltlMfWDm14I-"
      }
    },
    {
      "cell_type": "code",
      "source": [],
      "metadata": {
        "id": "6UlO_w3IDiWJ"
      },
      "execution_count": null,
      "outputs": []
    },
    {
      "cell_type": "code",
      "source": [
        "with gr.Blocks() as demo:\n",
        "    gr.Markdown('## Chat com Assistente SQL')\n",
        "    gr.Markdown(\n",
        "        '''\n",
        "        Este é um assistente SQL interativo, projetado para responder perguntas sobre os dados da loja Zoop.\n",
        "        Insira sua pergunta no campo abaixo e o assistente irá responder com base no resultado da consulta SQL\n",
        "        nos dados disponíveis.\n",
        "        '''\n",
        "    )\n"
      ],
      "metadata": {
        "id": "R4CpzD6UDjrv"
      },
      "execution_count": null,
      "outputs": []
    },
    {
      "cell_type": "markdown",
      "source": [
        "Podemos publicar nosso projeto no [Hugging Face](https://huggingface.co/new-space) e divulgar nosso trabalho!"
      ],
      "metadata": {
        "id": "MkpYSI232FnM"
      }
    },
    {
      "cell_type": "markdown",
      "source": [
        "> O projeto que você construiu é seu! Então fique a vontade para compartilhar o seu projeto no GitHub, Hugging Face, expor no seu portfólio ou divulgar no LinkedIn e nos marcar na postagem!\n",
        ">\n",
        "> Bons estudos!\n",
        "\n",
        "--Mirla Costa"
      ],
      "metadata": {
        "id": "VfyRElt82pUk"
      }
    }
  ]
}