{
  "nbformat": 4,
  "nbformat_minor": 0,
  "metadata": {
    "colab": {
      "provenance": []
    },
    "kernelspec": {
      "name": "python3",
      "display_name": "Python 3"
    },
    "language_info": {
      "name": "python"
    }
  },
  "cells": [
    {
      "cell_type": "markdown",
      "source": [
        "\n",
        "O Gradio é um pacote de código aberto em Python que permite criar rapidamente uma demonstração ou aplicação web para modelos de machine learning, APIs ou qualquer função em Python. Com ele, é possível compartilhar um link para a demonstração ou aplicação web em questão de segundos, utilizando os recursos integrados de compartilhamento do Gradio. Além disso, não é necessário ter conhecimento em JavaScript, CSS ou experiência em hospedagem web.\n",
        "\n",
        "> Você pode acessar informações sobre o Gradio, documentação e tutoriais nesse [link](https://www.gradio.app/).\n",
        "\n",
        "Com ele podemos publicar diversas aplicações desenvolvidas em Python na web para que várias pessoas possam acessar. Por conta disso, o Gradio é uma ótima ferramenta para compartilhar o que foi criado durante as aulas e disponibilizar para as pessoas interessadas ou mesmo divulgar o trabalho que você desenvolveu em seus estudos como seu portfólio!\n",
        "\n",
        "> Na Formação [Dominando Hugging Face com Python](https://cursos.alura.com.br/formacao-hugging-face-python) você aprende a utilizar a plataforma do  Hugging Face para construir diversas aplicações de NLP e publicar seu projeto com suporte do Gradio.\n",
        "\n",
        "Para utilizar o Gradio no Google Colab é preciso fazer a instalação do pacote no ambiente, pois o Gradio não é uma biblioteca nativa do Colab."
      ],
      "metadata": {
        "id": "Pjsn6FaDy_3n"
      }
    },
    {
      "cell_type": "code",
      "source": [
        "!pip install gradio"
      ],
      "metadata": {
        "colab": {
          "base_uri": "https://localhost:8080/"
        },
        "collapsed": true,
        "id": "uUEWJPlvjNb3",
        "outputId": "19c38689-41f8-4f4c-9207-5f872c3b8c0a"
      },
      "execution_count": 1,
      "outputs": [
        {
          "output_type": "stream",
          "name": "stdout",
          "text": [
            "Collecting gradio\n",
            "  Downloading gradio-5.8.0-py3-none-any.whl.metadata (16 kB)\n",
            "Collecting aiofiles<24.0,>=22.0 (from gradio)\n",
            "  Downloading aiofiles-23.2.1-py3-none-any.whl.metadata (9.7 kB)\n",
            "Requirement already satisfied: anyio<5.0,>=3.0 in /usr/local/lib/python3.10/dist-packages (from gradio) (3.7.1)\n",
            "Collecting fastapi<1.0,>=0.115.2 (from gradio)\n",
            "  Downloading fastapi-0.115.6-py3-none-any.whl.metadata (27 kB)\n",
            "Collecting ffmpy (from gradio)\n",
            "  Downloading ffmpy-0.4.0-py3-none-any.whl.metadata (2.9 kB)\n",
            "Collecting gradio-client==1.5.1 (from gradio)\n",
            "  Downloading gradio_client-1.5.1-py3-none-any.whl.metadata (7.1 kB)\n",
            "Requirement already satisfied: httpx>=0.24.1 in /usr/local/lib/python3.10/dist-packages (from gradio) (0.28.0)\n",
            "Requirement already satisfied: huggingface-hub>=0.25.1 in /usr/local/lib/python3.10/dist-packages (from gradio) (0.26.3)\n",
            "Requirement already satisfied: jinja2<4.0 in /usr/local/lib/python3.10/dist-packages (from gradio) (3.1.4)\n",
            "Collecting markupsafe~=2.0 (from gradio)\n",
            "  Downloading MarkupSafe-2.1.5-cp310-cp310-manylinux_2_17_x86_64.manylinux2014_x86_64.whl.metadata (3.0 kB)\n",
            "Requirement already satisfied: numpy<3.0,>=1.0 in /usr/local/lib/python3.10/dist-packages (from gradio) (1.26.4)\n",
            "Requirement already satisfied: orjson~=3.0 in /usr/local/lib/python3.10/dist-packages (from gradio) (3.10.12)\n",
            "Requirement already satisfied: packaging in /usr/local/lib/python3.10/dist-packages (from gradio) (24.2)\n",
            "Requirement already satisfied: pandas<3.0,>=1.0 in /usr/local/lib/python3.10/dist-packages (from gradio) (2.2.2)\n",
            "Requirement already satisfied: pillow<12.0,>=8.0 in /usr/local/lib/python3.10/dist-packages (from gradio) (11.0.0)\n",
            "Requirement already satisfied: pydantic>=2.0 in /usr/local/lib/python3.10/dist-packages (from gradio) (2.10.3)\n",
            "Collecting pydub (from gradio)\n",
            "  Downloading pydub-0.25.1-py2.py3-none-any.whl.metadata (1.4 kB)\n",
            "Collecting python-multipart>=0.0.18 (from gradio)\n",
            "  Downloading python_multipart-0.0.19-py3-none-any.whl.metadata (1.8 kB)\n",
            "Requirement already satisfied: pyyaml<7.0,>=5.0 in /usr/local/lib/python3.10/dist-packages (from gradio) (6.0.2)\n",
            "Collecting ruff>=0.2.2 (from gradio)\n",
            "  Downloading ruff-0.8.2-py3-none-manylinux_2_17_x86_64.manylinux2014_x86_64.whl.metadata (25 kB)\n",
            "Collecting safehttpx<0.2.0,>=0.1.6 (from gradio)\n",
            "  Downloading safehttpx-0.1.6-py3-none-any.whl.metadata (4.2 kB)\n",
            "Collecting semantic-version~=2.0 (from gradio)\n",
            "  Downloading semantic_version-2.10.0-py2.py3-none-any.whl.metadata (9.7 kB)\n",
            "Collecting starlette<1.0,>=0.40.0 (from gradio)\n",
            "  Downloading starlette-0.41.3-py3-none-any.whl.metadata (6.0 kB)\n",
            "Collecting tomlkit<0.14.0,>=0.12.0 (from gradio)\n",
            "  Downloading tomlkit-0.13.2-py3-none-any.whl.metadata (2.7 kB)\n",
            "Requirement already satisfied: typer<1.0,>=0.12 in /usr/local/lib/python3.10/dist-packages (from gradio) (0.15.0)\n",
            "Requirement already satisfied: typing-extensions~=4.0 in /usr/local/lib/python3.10/dist-packages (from gradio) (4.12.2)\n",
            "Collecting uvicorn>=0.14.0 (from gradio)\n",
            "  Downloading uvicorn-0.32.1-py3-none-any.whl.metadata (6.6 kB)\n",
            "Requirement already satisfied: fsspec in /usr/local/lib/python3.10/dist-packages (from gradio-client==1.5.1->gradio) (2024.10.0)\n",
            "Collecting websockets<15.0,>=10.0 (from gradio-client==1.5.1->gradio)\n",
            "  Downloading websockets-14.1-cp310-cp310-manylinux_2_5_x86_64.manylinux1_x86_64.manylinux_2_17_x86_64.manylinux2014_x86_64.whl.metadata (6.7 kB)\n",
            "Requirement already satisfied: idna>=2.8 in /usr/local/lib/python3.10/dist-packages (from anyio<5.0,>=3.0->gradio) (3.10)\n",
            "Requirement already satisfied: sniffio>=1.1 in /usr/local/lib/python3.10/dist-packages (from anyio<5.0,>=3.0->gradio) (1.3.1)\n",
            "Requirement already satisfied: exceptiongroup in /usr/local/lib/python3.10/dist-packages (from anyio<5.0,>=3.0->gradio) (1.2.2)\n",
            "Requirement already satisfied: certifi in /usr/local/lib/python3.10/dist-packages (from httpx>=0.24.1->gradio) (2024.8.30)\n",
            "Requirement already satisfied: httpcore==1.* in /usr/local/lib/python3.10/dist-packages (from httpx>=0.24.1->gradio) (1.0.7)\n",
            "Requirement already satisfied: h11<0.15,>=0.13 in /usr/local/lib/python3.10/dist-packages (from httpcore==1.*->httpx>=0.24.1->gradio) (0.14.0)\n",
            "Requirement already satisfied: filelock in /usr/local/lib/python3.10/dist-packages (from huggingface-hub>=0.25.1->gradio) (3.16.1)\n",
            "Requirement already satisfied: requests in /usr/local/lib/python3.10/dist-packages (from huggingface-hub>=0.25.1->gradio) (2.32.3)\n",
            "Requirement already satisfied: tqdm>=4.42.1 in /usr/local/lib/python3.10/dist-packages (from huggingface-hub>=0.25.1->gradio) (4.66.6)\n",
            "Requirement already satisfied: python-dateutil>=2.8.2 in /usr/local/lib/python3.10/dist-packages (from pandas<3.0,>=1.0->gradio) (2.8.2)\n",
            "Requirement already satisfied: pytz>=2020.1 in /usr/local/lib/python3.10/dist-packages (from pandas<3.0,>=1.0->gradio) (2024.2)\n",
            "Requirement already satisfied: tzdata>=2022.7 in /usr/local/lib/python3.10/dist-packages (from pandas<3.0,>=1.0->gradio) (2024.2)\n",
            "Requirement already satisfied: annotated-types>=0.6.0 in /usr/local/lib/python3.10/dist-packages (from pydantic>=2.0->gradio) (0.7.0)\n",
            "Requirement already satisfied: pydantic-core==2.27.1 in /usr/local/lib/python3.10/dist-packages (from pydantic>=2.0->gradio) (2.27.1)\n",
            "Requirement already satisfied: click>=8.0.0 in /usr/local/lib/python3.10/dist-packages (from typer<1.0,>=0.12->gradio) (8.1.7)\n",
            "Requirement already satisfied: shellingham>=1.3.0 in /usr/local/lib/python3.10/dist-packages (from typer<1.0,>=0.12->gradio) (1.5.4)\n",
            "Requirement already satisfied: rich>=10.11.0 in /usr/local/lib/python3.10/dist-packages (from typer<1.0,>=0.12->gradio) (13.9.4)\n",
            "Requirement already satisfied: six>=1.5 in /usr/local/lib/python3.10/dist-packages (from python-dateutil>=2.8.2->pandas<3.0,>=1.0->gradio) (1.16.0)\n",
            "Requirement already satisfied: markdown-it-py>=2.2.0 in /usr/local/lib/python3.10/dist-packages (from rich>=10.11.0->typer<1.0,>=0.12->gradio) (3.0.0)\n",
            "Requirement already satisfied: pygments<3.0.0,>=2.13.0 in /usr/local/lib/python3.10/dist-packages (from rich>=10.11.0->typer<1.0,>=0.12->gradio) (2.18.0)\n",
            "Requirement already satisfied: charset-normalizer<4,>=2 in /usr/local/lib/python3.10/dist-packages (from requests->huggingface-hub>=0.25.1->gradio) (3.4.0)\n",
            "Requirement already satisfied: urllib3<3,>=1.21.1 in /usr/local/lib/python3.10/dist-packages (from requests->huggingface-hub>=0.25.1->gradio) (2.2.3)\n",
            "Requirement already satisfied: mdurl~=0.1 in /usr/local/lib/python3.10/dist-packages (from markdown-it-py>=2.2.0->rich>=10.11.0->typer<1.0,>=0.12->gradio) (0.1.2)\n",
            "Downloading gradio-5.8.0-py3-none-any.whl (57.2 MB)\n",
            "\u001b[2K   \u001b[90m━━━━━━━━━━━━━━━━━━━━━━━━━━━━━━━━━━━━━━━━\u001b[0m \u001b[32m57.2/57.2 MB\u001b[0m \u001b[31m11.8 MB/s\u001b[0m eta \u001b[36m0:00:00\u001b[0m\n",
            "\u001b[?25hDownloading gradio_client-1.5.1-py3-none-any.whl (320 kB)\n",
            "\u001b[2K   \u001b[90m━━━━━━━━━━━━━━━━━━━━━━━━━━━━━━━━━━━━━━━━\u001b[0m \u001b[32m320.2/320.2 kB\u001b[0m \u001b[31m19.1 MB/s\u001b[0m eta \u001b[36m0:00:00\u001b[0m\n",
            "\u001b[?25hDownloading aiofiles-23.2.1-py3-none-any.whl (15 kB)\n",
            "Downloading fastapi-0.115.6-py3-none-any.whl (94 kB)\n",
            "\u001b[2K   \u001b[90m━━━━━━━━━━━━━━━━━━━━━━━━━━━━━━━━━━━━━━━━\u001b[0m \u001b[32m94.8/94.8 kB\u001b[0m \u001b[31m7.5 MB/s\u001b[0m eta \u001b[36m0:00:00\u001b[0m\n",
            "\u001b[?25hDownloading MarkupSafe-2.1.5-cp310-cp310-manylinux_2_17_x86_64.manylinux2014_x86_64.whl (25 kB)\n",
            "Downloading python_multipart-0.0.19-py3-none-any.whl (24 kB)\n",
            "Downloading ruff-0.8.2-py3-none-manylinux_2_17_x86_64.manylinux2014_x86_64.whl (11.2 MB)\n",
            "\u001b[2K   \u001b[90m━━━━━━━━━━━━━━━━━━━━━━━━━━━━━━━━━━━━━━━━\u001b[0m \u001b[32m11.2/11.2 MB\u001b[0m \u001b[31m55.7 MB/s\u001b[0m eta \u001b[36m0:00:00\u001b[0m\n",
            "\u001b[?25hDownloading safehttpx-0.1.6-py3-none-any.whl (8.7 kB)\n",
            "Downloading semantic_version-2.10.0-py2.py3-none-any.whl (15 kB)\n",
            "Downloading starlette-0.41.3-py3-none-any.whl (73 kB)\n",
            "\u001b[2K   \u001b[90m━━━━━━━━━━━━━━━━━━━━━━━━━━━━━━━━━━━━━━━━\u001b[0m \u001b[32m73.2/73.2 kB\u001b[0m \u001b[31m4.6 MB/s\u001b[0m eta \u001b[36m0:00:00\u001b[0m\n",
            "\u001b[?25hDownloading tomlkit-0.13.2-py3-none-any.whl (37 kB)\n",
            "Downloading uvicorn-0.32.1-py3-none-any.whl (63 kB)\n",
            "\u001b[2K   \u001b[90m━━━━━━━━━━━━━━━━━━━━━━━━━━━━━━━━━━━━━━━━\u001b[0m \u001b[32m63.8/63.8 kB\u001b[0m \u001b[31m4.1 MB/s\u001b[0m eta \u001b[36m0:00:00\u001b[0m\n",
            "\u001b[?25hDownloading ffmpy-0.4.0-py3-none-any.whl (5.8 kB)\n",
            "Downloading pydub-0.25.1-py2.py3-none-any.whl (32 kB)\n",
            "Downloading websockets-14.1-cp310-cp310-manylinux_2_5_x86_64.manylinux1_x86_64.manylinux_2_17_x86_64.manylinux2014_x86_64.whl (168 kB)\n",
            "\u001b[2K   \u001b[90m━━━━━━━━━━━━━━━━━━━━━━━━━━━━━━━━━━━━━━━━\u001b[0m \u001b[32m168.2/168.2 kB\u001b[0m \u001b[31m12.6 MB/s\u001b[0m eta \u001b[36m0:00:00\u001b[0m\n",
            "\u001b[?25hInstalling collected packages: pydub, websockets, uvicorn, tomlkit, semantic-version, ruff, python-multipart, markupsafe, ffmpy, aiofiles, starlette, safehttpx, gradio-client, fastapi, gradio\n",
            "  Attempting uninstall: markupsafe\n",
            "    Found existing installation: MarkupSafe 3.0.2\n",
            "    Uninstalling MarkupSafe-3.0.2:\n",
            "      Successfully uninstalled MarkupSafe-3.0.2\n",
            "Successfully installed aiofiles-23.2.1 fastapi-0.115.6 ffmpy-0.4.0 gradio-5.8.0 gradio-client-1.5.1 markupsafe-2.1.5 pydub-0.25.1 python-multipart-0.0.19 ruff-0.8.2 safehttpx-0.1.6 semantic-version-2.10.0 starlette-0.41.3 tomlkit-0.13.2 uvicorn-0.32.1 websockets-14.1\n"
          ]
        }
      ]
    },
    {
      "cell_type": "markdown",
      "source": [
        "**Para entender como utilizar o Gradio, vamos construir uma interface simples!**\n",
        "\n",
        "A aplicação busca receber um texto de uma pessoa que acessa a aplicação. Assim que o texto é enviado, a aplicação dá uma resposta para a pessoa usuária. A conversa será estruturada em formato de Chat.\n",
        "\n",
        "*Para simplificar a explicação e criação desse exemplo, a resposta da aplicação será um texto escolhido aleatoriamente*.\n",
        "\n",
        "## Passo 1: Importar bibliotecas necessárias\n",
        "\n",
        "Importamos o Gradio e o random, que usaremos para escolher aleatoriamente a resposta.\n"
      ],
      "metadata": {
        "id": "QBKMpfdGzD9E"
      }
    },
    {
      "cell_type": "code",
      "source": [
        "import gradio as gr\n",
        "import random"
      ],
      "metadata": {
        "id": "o46DbM6bkLjN"
      },
      "execution_count": 2,
      "outputs": []
    },
    {
      "cell_type": "markdown",
      "source": [
        "\n",
        "## Passo 2: Função para gerar as respostas do bot\n",
        "\n",
        "Criamos uma função, no exemplo chamada de `mensagem_bot` que será usada para gerar as respostas do bot e atualizar o histórico do chat. Nessa função, especificaremos dois parâmetros:\n",
        "- `msg_user`: representa a mensagem enviada pelo usuário; e\n",
        "- `historico`: é uma lista que armazena o histórico de interações entre o usuário e o bot.\n"
      ],
      "metadata": {
        "id": "cIVu3vpm7dO-"
      }
    },
    {
      "cell_type": "code",
      "source": [
        "# Função para gerar respostas do bot\n",
        "def mensagem_bot(msg_user,historico):\n",
        "    resposta = ['Olá!', 'Tudo bem?', 'Como posso ajudar?']\n",
        "    msg_bot = random.choice(resposta)\n",
        "    historico.append([msg_user, msg_bot])\n",
        "    return '', historico\n"
      ],
      "metadata": {
        "id": "kTclBAHbkMOk"
      },
      "execution_count": 11,
      "outputs": []
    },
    {
      "cell_type": "markdown",
      "source": [
        "Dentro da função, definimos uma lista chamada `resposta` contendo frases pré-definidas que o bot pode irá usar como resposta. O método `random.choice(resposta)` seleciona aleatoriamente uma das respostas disponíveis na lista.\n",
        "Com o objetivo de **manter o histórico da conversa**, a mensagem do usuário (`msg_user`) e a mensagem do bot (`msg_bot`) são adicionadas ao histórico como um par de mensagens. A função retorna dois valores:\n",
        "- Uma string vazia (`''`) que limpa o campo de entrada após o envio da mensagem.\n",
        "- O histórico atualizado, que será exibido no chatbot.\n",
        "\n",
        "> ***Até aqui não usamos o Gradio, apenas construímos a essência da nossa aplicação: receber uma mensagem de um usuário e enviar uma resposta.***\n",
        "\n",
        "## Passo 3: Interface Gradio\n",
        "\n",
        "Agora construímos nossa interface no Gradio. Começamos **estruturando a interface**:\n",
        "\n",
        "Criamos um contêiner que será capaz de agrupar e organizar os elementos visuais da aplicação. Utilizamos o método `gr.Blocks()` para criar esse contêiner onde podemos organizar os componentes da interface de forma hierárquica. Ao usar `as demo`, armazenamos esse contêiner na variável `demo`, permitindo que possamos referenciá-lo mais tarde.\n",
        "\n",
        "```Python\n",
        "with gr.Blocks() as demo:\n",
        "    gr.Markdown('## Demo Chatbot com Gradio')\n",
        "```\n",
        "Inserimos um título em formato Markdown na interface. O texto `## Demo Chatbot com Gradio` irá aparecer como um cabeçalho na interface.\n",
        "\n",
        "Em seguida, iremos definir os componentes principais da interface. Começamos criando um componente do tipo `Chatbot` que será usado para exibir o histórico de mensagens entre o usuário e o bot.\n",
        "- O parâmetro `label='Chat'` adiciona uma descrição ao componente, ajudando a identificar sua função.\n",
        "\n",
        "```Python\n",
        "with gr.Blocks() as demo:\n",
        "    gr.Markdown('## Demo Chatbot com Gradio')\n",
        "\n",
        "    chatbot = gr.Chatbot(label='Chat')\n",
        "```\n",
        "\n",
        "Adicionamos um campo de entrada de texto (`Textbox`) onde o usuário pode digitar suas mensagens. O parâmetro `placeholder='Digite sua mensagem e pressione Enter'` exibe uma mensagem guia dentro do campo de texto.\n",
        "\n",
        "```Python\n",
        "with gr.Blocks() as demo:\n",
        "    gr.Markdown('## Demo Chatbot com Gradio')\n",
        "\n",
        "    chatbot = gr.Chatbot(label='Chat')\n",
        "    msg = gr.Textbox(label='', placeholder='Digite sua mensagem e pressione Enter')\n",
        "```\n",
        "\n",
        "Seguimos criando um botão chamado `limpar` que permite ao usuário resetar o histórico de mensagens do chatbot.\n",
        "\n",
        "```Python\n",
        "with gr.Blocks() as demo:\n",
        "    gr.Markdown('## Demo Chatbot com Gradio')\n",
        "\n",
        "    chatbot = gr.Chatbot(label='Chat')\n",
        "    msg = gr.Textbox(label='', placeholder='Digite sua mensagem e pressione Enter')\n",
        "    limpar = gr.Button('Limpar')\n",
        "```\n",
        "\n",
        "Com todos os componentes, podemos estruturar uma lógica para envio de mensagens e resposta. Vamos iniciar especificando o que acontece a partir do momento que um texto é enviado para o `Textbox`. Para definir isso, utilizamos o método `msg.submit()`:\n",
        "- Este método irá associar o evento de envio de texto à função `mensagem_bot` que processa a mensagem e atualiza a interface.\n",
        "  - Parâmetros:\n",
        "    1. `mensagem_bot`: a função que será executada quando o texto for enviado. Aqui, ela processa a mensagem do usuário, gera uma resposta e atualiza o histórico de mensagens.\n",
        "    2. `inputs=[msg, chatbot]`: define as entradas para a função `mensagem_bot`. O conteúdo do `Textbox` (`msg`) e o histórico atual do chatbot (`chatbot`) são passados como argumentos.\n",
        "    3. `outputs=[msg, chatbot]`: define as saídas da função. A função retorna uma string vazia (para limpar o campo de texto) e o histórico atualizado (para exibição no chatbot).\n",
        "    4. `queue=False`: desabilita a fila de processamento para que a função seja executada imediatamente após o envio da mensagem.\n",
        "\n",
        "```Python\n",
        "with gr.Blocks() as demo:\n",
        "    gr.Markdown('## Demo Chatbot com Gradio')\n",
        "\n",
        "    chatbot = gr.Chatbot(label='Chat')\n",
        "    msg = gr.Textbox(label='', placeholder='Digite sua mensagem e pressione Enter')\n",
        "    limpar = gr.Button('Limpar')\n",
        "\n",
        "    msg.submit(mensagem_bot, inputs=[msg, chatbot], outputs = [msg, chatbot], queue=False)\n",
        "```\n",
        "\n",
        "Além disso, também criamos uma funcionalidade para limpar o histórico de mensagens, associada ao botão `limpar`. Essa funcionalidade é ativada assim que o botão é clicado a partir do método `limpar.click()`:\n",
        "- Esse método pede uma função para ser executada, logo usamos uma função anônima que não faz nada (apenas retorna `None`), pois o objetivo é apenas limpar o texto.\n",
        "- Parâmetros:\n",
        "    1. `lambda: None`: a função executada ao clicar no botão.\n",
        "    2. `inputs=None`: indica que não há entradas para a função.\n",
        "    3. `outputs=chatbot`: a saída será enviada ao componente `chatbot`, substituindo seu conteúdo pelo retorno da função, `None`.\n",
        "    4. `queue=False`: desabilita a fila de processamento para que a função seja executada imediatamente após o envio da mensagem."
      ],
      "metadata": {
        "id": "UfGYOq8R7RB3"
      }
    },
    {
      "cell_type": "code",
      "source": [
        "# Interface Gradio\n",
        "with gr.Blocks() as demo:\n",
        "    gr.Markdown('## Demo Chatbot com Gradio')\n",
        "\n",
        "    chatbot = gr.Chatbot(label='Chat com Gradio')\n",
        "    msg = gr.Textbox(label='', placeholder='Digite sua mensagem e pressione Enter')\n",
        "    limpar = gr.Button('Limpar')\n",
        "\n",
        "    # Lógica para enviar mensagem e receber resposta\n",
        "    msg.submit(mensagem_bot, inputs=[msg, chatbot], outputs = [msg, chatbot], queue=False)\n",
        "    limpar.click(lambda: None,  inputs=None, outputs=chatbot, queue=False)"
      ],
      "metadata": {
        "colab": {
          "base_uri": "https://localhost:8080/"
        },
        "id": "lJhXmGAM7FhN",
        "outputId": "e48ee5cd-2018-4f00-94b9-0f963b632d35"
      },
      "execution_count": 12,
      "outputs": [
        {
          "output_type": "stream",
          "name": "stderr",
          "text": [
            "/usr/local/lib/python3.10/dist-packages/gradio/components/chatbot.py:237: UserWarning: You have not specified a value for the `type` parameter. Defaulting to the 'tuples' format for chatbot messages, but this is deprecated and will be removed in a future version of Gradio. Please set type='messages' instead, which uses openai-style dictionaries with 'role' and 'content' keys.\n",
            "  warnings.warn(\n"
          ]
        }
      ]
    },
    {
      "cell_type": "markdown",
      "source": [
        "## Passo 5: Iniciando a interface\n",
        "\n",
        "Para terminar a construção da aplicação, ativamos o gerenciamento de fila com `demo.queue()` para garantir que as interações no chatbot sejam processadas de maneira ordenada e sem conflitos. Por fim, chamamos `demo.launch()` para iniciar a aplicação e gerar a interface interativa.\n"
      ],
      "metadata": {
        "id": "Gpl_nJQC7FGE"
      }
    },
    {
      "cell_type": "code",
      "execution_count": 13,
      "metadata": {
        "colab": {
          "base_uri": "https://localhost:8080/",
          "height": 646
        },
        "id": "cV789lg9Vq-R",
        "outputId": "537cbf59-6bea-4b14-8b4d-c91d6af4c5b4"
      },
      "outputs": [
        {
          "output_type": "stream",
          "name": "stdout",
          "text": [
            "Running Gradio in a Colab notebook requires sharing enabled. Automatically setting `share=True` (you can turn this off by setting `share=False` in `launch()` explicitly).\n",
            "\n",
            "Colab notebook detected. To show errors in colab notebook, set debug=True in launch()\n",
            "* Running on public URL: https://964fa825dc569ef69a.gradio.live\n",
            "\n",
            "This share link expires in 72 hours. For free permanent hosting and GPU upgrades, run `gradio deploy` from the terminal in the working directory to deploy to Hugging Face Spaces (https://huggingface.co/spaces)\n"
          ]
        },
        {
          "output_type": "display_data",
          "data": {
            "text/plain": [
              "<IPython.core.display.HTML object>"
            ],
            "text/html": [
              "<div><iframe src=\"https://964fa825dc569ef69a.gradio.live\" width=\"100%\" height=\"500\" allow=\"autoplay; camera; microphone; clipboard-read; clipboard-write;\" frameborder=\"0\" allowfullscreen></iframe></div>"
            ]
          },
          "metadata": {}
        },
        {
          "output_type": "execute_result",
          "data": {
            "text/plain": []
          },
          "metadata": {},
          "execution_count": 13
        }
      ],
      "source": [
        "# Habilita o gerenciamento de fila\n",
        "demo.queue()\n",
        "# Inicia a aplicação\n",
        "demo.launch()"
      ]
    }
  ]
}